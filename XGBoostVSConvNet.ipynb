{
 "cells": [
  {
   "cell_type": "markdown",
   "metadata": {
    "deletable": true,
    "editable": true
   },
   "source": [
    "<h1>XGBoost vs FastAI/Pytorch ConvNet on Categorical data: Part I</h1>"
   ]
  },
  {
   "cell_type": "markdown",
   "metadata": {
    "deletable": true,
    "editable": true
   },
   "source": [
    "<h3>Part I </h3>\n",
    "\n",
    "This section will demonstrate the efficacy of XGBoost straight out of the box, with default paramater settings. This script demonstrates an accuracy of 64.07%. With minimal feature engineering, namely the exclusion of all continuous variables, the dataset was first one-hot encoded.\n",
    "\n",
    "<h3>Part II </h3> \n",
    "\n",
    "This section will implement a ConvNet on the same dataset.\n",
    "\n",
    "\n",
    "<h3>Part III</h3>\n",
    "\n",
    "Part III will compare both algorithms, after hyperparamter tuning is implemented. A twist in Part III will be the conversion of all categorical variables to <b><i>entity embeddings</i></b>, where each variables is mapped to a continuous n-dimensional space.\n",
    "\n",
    "\n",
    "-------------------\n",
    "\n",
    "<h3>A bit about the data</h3>\n",
    "\n",
    "The aim of this Kaggle dataset was to predict whether a Kickstarter project will succeed or fail based upon a mix of categorical and continuous variables.\n",
    "\n",
    "Here is a link to the datasets, hosted on Kaggle: https://www.kaggle.com/kemical/kickstarter-projects."
   ]
  },
  {
   "cell_type": "code",
   "execution_count": 1,
   "metadata": {
    "collapsed": true,
    "deletable": true,
    "editable": true
   },
   "outputs": [],
   "source": [
    "import numpy as np\n",
    "import pandas as pd\n",
    "import xgboost as xgb\n",
    "from sklearn import preprocessing\n",
    "import re\n",
    "import math\n",
    "from sklearn.metrics import accuracy_score\n",
    "\n",
    "\n",
    "%matplotlib inline\n",
    "\n",
    "import matplotlib\n",
    "import numpy as np\n",
    "import matplotlib.pyplot as plt"
   ]
  },
  {
   "cell_type": "code",
   "execution_count": 4,
   "metadata": {
    "collapsed": true,
    "deletable": true,
    "editable": true
   },
   "outputs": [],
   "source": [
    "import sys\n",
    "sys.path.append(\"/home/paperspace/fastai/\")\n",
    "\n",
    "from fastai.imports import *\n",
    "from fastai.transforms import *\n",
    "from fastai.conv_learner import *\n",
    "from fastai.model import *\n",
    "from fastai.sgdr import *\n",
    "from fastai.plots import *\n",
    "from fastai.structured import *\n",
    "from fastai.column_data import *"
   ]
  },
  {
   "cell_type": "code",
   "execution_count": 5,
   "metadata": {
    "collapsed": true,
    "deletable": true,
    "editable": true
   },
   "outputs": [],
   "source": [
    "dataset   = pd.read_csv(\"./ks-projects-201612.csv\", encoding=\"latin1\", low_memory=False)"
   ]
  },
  {
   "cell_type": "code",
   "execution_count": 6,
   "metadata": {
    "collapsed": false,
    "deletable": true,
    "editable": true,
    "scrolled": false
   },
   "outputs": [
    {
     "data": {
      "text/html": [
       "<div>\n",
       "<style scoped>\n",
       "    .dataframe tbody tr th:only-of-type {\n",
       "        vertical-align: middle;\n",
       "    }\n",
       "\n",
       "    .dataframe tbody tr th {\n",
       "        vertical-align: top;\n",
       "    }\n",
       "\n",
       "    .dataframe thead th {\n",
       "        text-align: right;\n",
       "    }\n",
       "</style>\n",
       "<table border=\"1\" class=\"dataframe\">\n",
       "  <thead>\n",
       "    <tr style=\"text-align: right;\">\n",
       "      <th></th>\n",
       "      <th>ID</th>\n",
       "      <th>name</th>\n",
       "      <th>category</th>\n",
       "      <th>main_category</th>\n",
       "      <th>currency</th>\n",
       "      <th>deadline</th>\n",
       "      <th>goal</th>\n",
       "      <th>launched</th>\n",
       "      <th>pledged</th>\n",
       "      <th>state</th>\n",
       "      <th>backers</th>\n",
       "      <th>country</th>\n",
       "      <th>usd pledged</th>\n",
       "      <th>Unnamed: 13</th>\n",
       "      <th>Unnamed: 14</th>\n",
       "      <th>Unnamed: 15</th>\n",
       "      <th>Unnamed: 16</th>\n",
       "    </tr>\n",
       "  </thead>\n",
       "  <tbody>\n",
       "    <tr>\n",
       "      <th>0</th>\n",
       "      <td>1000002330</td>\n",
       "      <td>The Songs of Adelaide &amp; Abullah</td>\n",
       "      <td>Poetry</td>\n",
       "      <td>Publishing</td>\n",
       "      <td>GBP</td>\n",
       "      <td>2015-10-09 11:36:00</td>\n",
       "      <td>1000</td>\n",
       "      <td>2015-08-11 12:12:28</td>\n",
       "      <td>0</td>\n",
       "      <td>failed</td>\n",
       "      <td>0</td>\n",
       "      <td>GB</td>\n",
       "      <td>0</td>\n",
       "      <td>NaN</td>\n",
       "      <td>NaN</td>\n",
       "      <td>NaN</td>\n",
       "      <td>NaN</td>\n",
       "    </tr>\n",
       "    <tr>\n",
       "      <th>1</th>\n",
       "      <td>1000004038</td>\n",
       "      <td>Where is Hank?</td>\n",
       "      <td>Narrative Film</td>\n",
       "      <td>Film &amp; Video</td>\n",
       "      <td>USD</td>\n",
       "      <td>2013-02-26 00:20:50</td>\n",
       "      <td>45000</td>\n",
       "      <td>2013-01-12 00:20:50</td>\n",
       "      <td>220</td>\n",
       "      <td>failed</td>\n",
       "      <td>3</td>\n",
       "      <td>US</td>\n",
       "      <td>220</td>\n",
       "      <td>NaN</td>\n",
       "      <td>NaN</td>\n",
       "      <td>NaN</td>\n",
       "      <td>NaN</td>\n",
       "    </tr>\n",
       "    <tr>\n",
       "      <th>2</th>\n",
       "      <td>1000007540</td>\n",
       "      <td>ToshiCapital Rekordz Needs Help to Complete Album</td>\n",
       "      <td>Music</td>\n",
       "      <td>Music</td>\n",
       "      <td>USD</td>\n",
       "      <td>2012-04-16 04:24:11</td>\n",
       "      <td>5000</td>\n",
       "      <td>2012-03-17 03:24:11</td>\n",
       "      <td>1</td>\n",
       "      <td>failed</td>\n",
       "      <td>1</td>\n",
       "      <td>US</td>\n",
       "      <td>1</td>\n",
       "      <td>NaN</td>\n",
       "      <td>NaN</td>\n",
       "      <td>NaN</td>\n",
       "      <td>NaN</td>\n",
       "    </tr>\n",
       "    <tr>\n",
       "      <th>3</th>\n",
       "      <td>1000011046</td>\n",
       "      <td>Community Film Project: The Art of Neighborhoo...</td>\n",
       "      <td>Film &amp; Video</td>\n",
       "      <td>Film &amp; Video</td>\n",
       "      <td>USD</td>\n",
       "      <td>2015-08-29 01:00:00</td>\n",
       "      <td>19500</td>\n",
       "      <td>2015-07-04 08:35:03</td>\n",
       "      <td>1283</td>\n",
       "      <td>canceled</td>\n",
       "      <td>14</td>\n",
       "      <td>US</td>\n",
       "      <td>1283</td>\n",
       "      <td>NaN</td>\n",
       "      <td>NaN</td>\n",
       "      <td>NaN</td>\n",
       "      <td>NaN</td>\n",
       "    </tr>\n",
       "    <tr>\n",
       "      <th>4</th>\n",
       "      <td>1000014025</td>\n",
       "      <td>Monarch Espresso Bar</td>\n",
       "      <td>Restaurants</td>\n",
       "      <td>Food</td>\n",
       "      <td>USD</td>\n",
       "      <td>2016-04-01 13:38:27</td>\n",
       "      <td>50000</td>\n",
       "      <td>2016-02-26 13:38:27</td>\n",
       "      <td>52375</td>\n",
       "      <td>successful</td>\n",
       "      <td>224</td>\n",
       "      <td>US</td>\n",
       "      <td>52375</td>\n",
       "      <td>NaN</td>\n",
       "      <td>NaN</td>\n",
       "      <td>NaN</td>\n",
       "      <td>NaN</td>\n",
       "    </tr>\n",
       "  </tbody>\n",
       "</table>\n",
       "</div>"
      ],
      "text/plain": [
       "          ID                                               name   \\\n",
       "0  1000002330                    The Songs of Adelaide & Abullah   \n",
       "1  1000004038                                     Where is Hank?   \n",
       "2  1000007540  ToshiCapital Rekordz Needs Help to Complete Album   \n",
       "3  1000011046  Community Film Project: The Art of Neighborhoo...   \n",
       "4  1000014025                               Monarch Espresso Bar   \n",
       "\n",
       "        category  main_category  currency             deadline   goal   \\\n",
       "0          Poetry     Publishing       GBP  2015-10-09 11:36:00   1000   \n",
       "1  Narrative Film   Film & Video       USD  2013-02-26 00:20:50  45000   \n",
       "2           Music          Music       USD  2012-04-16 04:24:11   5000   \n",
       "3    Film & Video   Film & Video       USD  2015-08-29 01:00:00  19500   \n",
       "4     Restaurants           Food       USD  2016-04-01 13:38:27  50000   \n",
       "\n",
       "             launched  pledged       state  backers  country  usd pledged   \\\n",
       "0  2015-08-11 12:12:28        0      failed        0       GB            0   \n",
       "1  2013-01-12 00:20:50      220      failed        3       US          220   \n",
       "2  2012-03-17 03:24:11        1      failed        1       US            1   \n",
       "3  2015-07-04 08:35:03     1283    canceled       14       US         1283   \n",
       "4  2016-02-26 13:38:27    52375  successful      224       US        52375   \n",
       "\n",
       "  Unnamed: 13 Unnamed: 14 Unnamed: 15  Unnamed: 16  \n",
       "0         NaN         NaN         NaN          NaN  \n",
       "1         NaN         NaN         NaN          NaN  \n",
       "2         NaN         NaN         NaN          NaN  \n",
       "3         NaN         NaN         NaN          NaN  \n",
       "4         NaN         NaN         NaN          NaN  "
      ]
     },
     "execution_count": 6,
     "metadata": {},
     "output_type": "execute_result"
    }
   ],
   "source": [
    "dataset.iloc[:5,:]"
   ]
  },
  {
   "cell_type": "markdown",
   "metadata": {
    "deletable": true,
    "editable": true
   },
   "source": [
    "<h3>Descriptive stats on the data</h3>"
   ]
  },
  {
   "cell_type": "code",
   "execution_count": 7,
   "metadata": {
    "collapsed": false,
    "deletable": true,
    "editable": true
   },
   "outputs": [
    {
     "name": "stdout",
     "output_type": "stream",
     "text": [
      "the number of instances (rows) are:   323750\n",
      "the number of features (columns) are: 17\n"
     ]
    }
   ],
   "source": [
    "print(\"the number of instances (rows) are:  \", dataset.shape[0])\n",
    "print(\"the number of features (columns) are:\", dataset.shape[1])"
   ]
  },
  {
   "cell_type": "code",
   "execution_count": 8,
   "metadata": {
    "collapsed": false,
    "deletable": true,
    "editable": true
   },
   "outputs": [
    {
     "name": "stdout",
     "output_type": "stream",
     "text": [
      "Stats on the 'project state' label-variable: \n",
      "\n",
      "\n",
      "count     323750\n",
      "unique       410\n",
      "top       failed\n",
      "freq      168221\n",
      "Name: state , dtype: object\n",
      "\n",
      "\n",
      "\n",
      "Breakdown of the top 15 levels of the label-variable: \n",
      "\n",
      "\n",
      "failed        168221\n",
      "successful    113081\n",
      "canceled       32354\n",
      "live            4428\n",
      "undefined       3555\n",
      "suspended       1479\n",
      "0                 96\n",
      "1                 15\n",
      "5                 11\n",
      "25                11\n",
      "10                10\n",
      "100                8\n",
      "50                 7\n",
      "65                 6\n",
      "55                 5\n",
      "Name: state , dtype: int64\n"
     ]
    }
   ],
   "source": [
    "print(\"Stats on the 'project state' label-variable: \\n\\n\")\n",
    "print(dataset.iloc[:,9].describe())\n",
    "print(\"\\n\\n\\nBreakdown of the top 15 levels of the label-variable: \\n\\n\")\n",
    "print(dataset.iloc[:,9].value_counts().iloc[:15])"
   ]
  },
  {
   "cell_type": "code",
   "execution_count": 9,
   "metadata": {
    "collapsed": true,
    "deletable": true,
    "editable": true
   },
   "outputs": [],
   "source": [
    "datasetClean = dataset.iloc[np.where((dataset.iloc[:,9].values=='failed') | (dataset.iloc[:,9].values=='successful'))]"
   ]
  },
  {
   "cell_type": "code",
   "execution_count": 10,
   "metadata": {
    "collapsed": false,
    "deletable": true,
    "editable": true
   },
   "outputs": [
    {
     "name": "stdout",
     "output_type": "stream",
     "text": [
      "reducing the number of levels of the label-variable to just two:\n",
      "\n",
      "\n",
      "failed        168221\n",
      "successful    113081\n",
      "Name: state , dtype: int64\n"
     ]
    }
   ],
   "source": [
    "print(\"reducing the number of levels of the label-variable to just two:\\n\\n\")\n",
    "print(datasetClean.iloc[:,9].value_counts())"
   ]
  },
  {
   "cell_type": "code",
   "execution_count": 11,
   "metadata": {
    "collapsed": false,
    "deletable": true,
    "editable": true,
    "scrolled": true
   },
   "outputs": [
    {
     "name": "stdout",
     "output_type": "stream",
     "text": [
      "Count the number of missing values in the dataset: \n",
      "\n",
      "\n"
     ]
    },
    {
     "data": {
      "text/plain": [
       "ID                     0\n",
       "name                   3\n",
       "category               0\n",
       "main_category          0\n",
       "currency               0\n",
       "deadline               0\n",
       "goal                   0\n",
       "launched               0\n",
       "pledged                0\n",
       "state                  0\n",
       "backers                0\n",
       "country                0\n",
       "usd pledged          210\n",
       "Unnamed: 13       281302\n",
       "Unnamed: 14       281302\n",
       "Unnamed: 15       281302\n",
       "Unnamed: 16       281302\n",
       "dtype: int64"
      ]
     },
     "execution_count": 11,
     "metadata": {},
     "output_type": "execute_result"
    }
   ],
   "source": [
    "print(\"Count the number of missing values in the dataset: \\n\\n\")\n",
    "datasetClean.isnull().sum(axis=0)"
   ]
  },
  {
   "cell_type": "markdown",
   "metadata": {
    "deletable": true,
    "editable": true
   },
   "source": [
    "<h5>The Model will predict State using the Category, Main Category, Currency and Country variables.</h5>"
   ]
  },
  {
   "cell_type": "code",
   "execution_count": 12,
   "metadata": {
    "collapsed": false,
    "deletable": true,
    "editable": true
   },
   "outputs": [
    {
     "data": {
      "text/html": [
       "<div>\n",
       "<style scoped>\n",
       "    .dataframe tbody tr th:only-of-type {\n",
       "        vertical-align: middle;\n",
       "    }\n",
       "\n",
       "    .dataframe tbody tr th {\n",
       "        vertical-align: top;\n",
       "    }\n",
       "\n",
       "    .dataframe thead th {\n",
       "        text-align: right;\n",
       "    }\n",
       "</style>\n",
       "<table border=\"1\" class=\"dataframe\">\n",
       "  <thead>\n",
       "    <tr style=\"text-align: right;\">\n",
       "      <th></th>\n",
       "      <th>category</th>\n",
       "      <th>main_category</th>\n",
       "      <th>currency</th>\n",
       "      <th>state</th>\n",
       "      <th>country</th>\n",
       "    </tr>\n",
       "  </thead>\n",
       "  <tbody>\n",
       "    <tr>\n",
       "      <th>0</th>\n",
       "      <td>Poetry</td>\n",
       "      <td>Publishing</td>\n",
       "      <td>GBP</td>\n",
       "      <td>failed</td>\n",
       "      <td>GB</td>\n",
       "    </tr>\n",
       "    <tr>\n",
       "      <th>1</th>\n",
       "      <td>Narrative Film</td>\n",
       "      <td>Film &amp; Video</td>\n",
       "      <td>USD</td>\n",
       "      <td>failed</td>\n",
       "      <td>US</td>\n",
       "    </tr>\n",
       "    <tr>\n",
       "      <th>2</th>\n",
       "      <td>Music</td>\n",
       "      <td>Music</td>\n",
       "      <td>USD</td>\n",
       "      <td>failed</td>\n",
       "      <td>US</td>\n",
       "    </tr>\n",
       "    <tr>\n",
       "      <th>4</th>\n",
       "      <td>Restaurants</td>\n",
       "      <td>Food</td>\n",
       "      <td>USD</td>\n",
       "      <td>successful</td>\n",
       "      <td>US</td>\n",
       "    </tr>\n",
       "    <tr>\n",
       "      <th>5</th>\n",
       "      <td>Food</td>\n",
       "      <td>Food</td>\n",
       "      <td>USD</td>\n",
       "      <td>successful</td>\n",
       "      <td>US</td>\n",
       "    </tr>\n",
       "  </tbody>\n",
       "</table>\n",
       "</div>"
      ],
      "text/plain": [
       "        category  main_category  currency       state  country \n",
       "0          Poetry     Publishing       GBP      failed       GB\n",
       "1  Narrative Film   Film & Video       USD      failed       US\n",
       "2           Music          Music       USD      failed       US\n",
       "4     Restaurants           Food       USD  successful       US\n",
       "5            Food           Food       USD  successful       US"
      ]
     },
     "execution_count": 12,
     "metadata": {},
     "output_type": "execute_result"
    }
   ],
   "source": [
    "## subsetting category, main_category, currency, state, country\n",
    "datasetSub = datasetClean.iloc[:,[2,3,4,9,11]]\n",
    "datasetSub.head()"
   ]
  },
  {
   "cell_type": "code",
   "execution_count": 13,
   "metadata": {
    "collapsed": false,
    "deletable": true,
    "editable": true
   },
   "outputs": [
    {
     "data": {
      "text/html": [
       "<div>\n",
       "<style scoped>\n",
       "    .dataframe tbody tr th:only-of-type {\n",
       "        vertical-align: middle;\n",
       "    }\n",
       "\n",
       "    .dataframe tbody tr th {\n",
       "        vertical-align: top;\n",
       "    }\n",
       "\n",
       "    .dataframe thead th {\n",
       "        text-align: right;\n",
       "    }\n",
       "</style>\n",
       "<table border=\"1\" class=\"dataframe\">\n",
       "  <thead>\n",
       "    <tr style=\"text-align: right;\">\n",
       "      <th></th>\n",
       "      <th>category</th>\n",
       "      <th>main_category</th>\n",
       "      <th>currency</th>\n",
       "      <th>state</th>\n",
       "      <th>country</th>\n",
       "    </tr>\n",
       "  </thead>\n",
       "  <tbody>\n",
       "    <tr>\n",
       "      <th>count</th>\n",
       "      <td>281302</td>\n",
       "      <td>281302</td>\n",
       "      <td>281302</td>\n",
       "      <td>281302</td>\n",
       "      <td>281302</td>\n",
       "    </tr>\n",
       "    <tr>\n",
       "      <th>unique</th>\n",
       "      <td>158</td>\n",
       "      <td>15</td>\n",
       "      <td>13</td>\n",
       "      <td>2</td>\n",
       "      <td>22</td>\n",
       "    </tr>\n",
       "    <tr>\n",
       "      <th>top</th>\n",
       "      <td>Product Design</td>\n",
       "      <td>Film &amp; Video</td>\n",
       "      <td>USD</td>\n",
       "      <td>failed</td>\n",
       "      <td>US</td>\n",
       "    </tr>\n",
       "    <tr>\n",
       "      <th>freq</th>\n",
       "      <td>14516</td>\n",
       "      <td>51057</td>\n",
       "      <td>229517</td>\n",
       "      <td>168221</td>\n",
       "      <td>229366</td>\n",
       "    </tr>\n",
       "  </tbody>\n",
       "</table>\n",
       "</div>"
      ],
      "text/plain": [
       "             category  main_category  currency   state  country \n",
       "count           281302         281302    281302  281302   281302\n",
       "unique             158             15        13       2       22\n",
       "top     Product Design   Film & Video       USD  failed       US\n",
       "freq             14516          51057    229517  168221   229366"
      ]
     },
     "execution_count": 13,
     "metadata": {},
     "output_type": "execute_result"
    }
   ],
   "source": [
    "datasetSub.describe()"
   ]
  },
  {
   "cell_type": "code",
   "execution_count": 14,
   "metadata": {
    "collapsed": false,
    "deletable": true,
    "editable": true
   },
   "outputs": [
    {
     "name": "stdout",
     "output_type": "stream",
     "text": [
      "the number of instances (rows) are:   281302\n",
      "the number of features (columns) are: 5\n"
     ]
    }
   ],
   "source": [
    "print(\"the number of instances (rows) are:  \", datasetSub.shape[0])\n",
    "print(\"the number of features (columns) are:\", datasetSub.shape[1])"
   ]
  },
  {
   "cell_type": "markdown",
   "metadata": {
    "deletable": true,
    "editable": true
   },
   "source": [
    "<h3>One Hot Encoding the dataset</h3>"
   ]
  },
  {
   "cell_type": "markdown",
   "metadata": {
    "deletable": true,
    "editable": true
   },
   "source": [
    "<h5>An example of one hot encoding</h5>"
   ]
  },
  {
   "cell_type": "code",
   "execution_count": 15,
   "metadata": {
    "collapsed": true,
    "deletable": true,
    "editable": true
   },
   "outputs": [],
   "source": [
    "df = pd.DataFrame({'Primary': ['alpha', 'beta', 'alpha'], 'Secondary': ['uno', 'dos', 'tres'], 'Tertiary': [\"1\", \"2\", \"3\"]})"
   ]
  },
  {
   "cell_type": "code",
   "execution_count": 16,
   "metadata": {
    "collapsed": false,
    "deletable": true,
    "editable": true
   },
   "outputs": [
    {
     "data": {
      "text/html": [
       "<div>\n",
       "<style scoped>\n",
       "    .dataframe tbody tr th:only-of-type {\n",
       "        vertical-align: middle;\n",
       "    }\n",
       "\n",
       "    .dataframe tbody tr th {\n",
       "        vertical-align: top;\n",
       "    }\n",
       "\n",
       "    .dataframe thead th {\n",
       "        text-align: right;\n",
       "    }\n",
       "</style>\n",
       "<table border=\"1\" class=\"dataframe\">\n",
       "  <thead>\n",
       "    <tr style=\"text-align: right;\">\n",
       "      <th></th>\n",
       "      <th>Primary</th>\n",
       "      <th>Secondary</th>\n",
       "      <th>Tertiary</th>\n",
       "    </tr>\n",
       "  </thead>\n",
       "  <tbody>\n",
       "    <tr>\n",
       "      <th>0</th>\n",
       "      <td>alpha</td>\n",
       "      <td>uno</td>\n",
       "      <td>1</td>\n",
       "    </tr>\n",
       "    <tr>\n",
       "      <th>1</th>\n",
       "      <td>beta</td>\n",
       "      <td>dos</td>\n",
       "      <td>2</td>\n",
       "    </tr>\n",
       "    <tr>\n",
       "      <th>2</th>\n",
       "      <td>alpha</td>\n",
       "      <td>tres</td>\n",
       "      <td>3</td>\n",
       "    </tr>\n",
       "  </tbody>\n",
       "</table>\n",
       "</div>"
      ],
      "text/plain": [
       "  Primary Secondary Tertiary\n",
       "0   alpha       uno        1\n",
       "1    beta       dos        2\n",
       "2   alpha      tres        3"
      ]
     },
     "execution_count": 16,
     "metadata": {},
     "output_type": "execute_result"
    }
   ],
   "source": [
    "df"
   ]
  },
  {
   "cell_type": "markdown",
   "metadata": {
    "deletable": true,
    "editable": true
   },
   "source": [
    "The final dimensions of the one-hot encoded dataset depend upon the number of levels of each variable and the number of variables:\n",
    "- In `df` there are 2 levels in the first column.\n",
    "- 3 levels in the second column.\n",
    "- 3 levels in the third column. \n",
    "\n",
    "This means that the final dimensions of the dataset will need (3 x 2), (3 x 3) and (3 * 3) dimensions. The output will be 3 x 8."
   ]
  },
  {
   "cell_type": "code",
   "execution_count": 17,
   "metadata": {
    "collapsed": false,
    "deletable": true,
    "editable": true
   },
   "outputs": [
    {
     "data": {
      "text/html": [
       "<div>\n",
       "<style scoped>\n",
       "    .dataframe tbody tr th:only-of-type {\n",
       "        vertical-align: middle;\n",
       "    }\n",
       "\n",
       "    .dataframe tbody tr th {\n",
       "        vertical-align: top;\n",
       "    }\n",
       "\n",
       "    .dataframe thead th {\n",
       "        text-align: right;\n",
       "    }\n",
       "</style>\n",
       "<table border=\"1\" class=\"dataframe\">\n",
       "  <thead>\n",
       "    <tr style=\"text-align: right;\">\n",
       "      <th></th>\n",
       "      <th>Primary_alpha</th>\n",
       "      <th>Primary_beta</th>\n",
       "      <th>Secondary_dos</th>\n",
       "      <th>Secondary_tres</th>\n",
       "      <th>Secondary_uno</th>\n",
       "      <th>Tertiary_1</th>\n",
       "      <th>Tertiary_2</th>\n",
       "      <th>Tertiary_3</th>\n",
       "    </tr>\n",
       "  </thead>\n",
       "  <tbody>\n",
       "    <tr>\n",
       "      <th>0</th>\n",
       "      <td>1</td>\n",
       "      <td>0</td>\n",
       "      <td>0</td>\n",
       "      <td>0</td>\n",
       "      <td>1</td>\n",
       "      <td>1</td>\n",
       "      <td>0</td>\n",
       "      <td>0</td>\n",
       "    </tr>\n",
       "    <tr>\n",
       "      <th>1</th>\n",
       "      <td>0</td>\n",
       "      <td>1</td>\n",
       "      <td>1</td>\n",
       "      <td>0</td>\n",
       "      <td>0</td>\n",
       "      <td>0</td>\n",
       "      <td>1</td>\n",
       "      <td>0</td>\n",
       "    </tr>\n",
       "    <tr>\n",
       "      <th>2</th>\n",
       "      <td>1</td>\n",
       "      <td>0</td>\n",
       "      <td>0</td>\n",
       "      <td>1</td>\n",
       "      <td>0</td>\n",
       "      <td>0</td>\n",
       "      <td>0</td>\n",
       "      <td>1</td>\n",
       "    </tr>\n",
       "  </tbody>\n",
       "</table>\n",
       "</div>"
      ],
      "text/plain": [
       "   Primary_alpha  Primary_beta  Secondary_dos  Secondary_tres  Secondary_uno  \\\n",
       "0              1             0              0               0              1   \n",
       "1              0             1              1               0              0   \n",
       "2              1             0              0               1              0   \n",
       "\n",
       "   Tertiary_1  Tertiary_2  Tertiary_3  \n",
       "0           1           0           0  \n",
       "1           0           1           0  \n",
       "2           0           0           1  "
      ]
     },
     "execution_count": 17,
     "metadata": {},
     "output_type": "execute_result"
    }
   ],
   "source": [
    "pd.get_dummies(df)"
   ]
  },
  {
   "cell_type": "markdown",
   "metadata": {
    "deletable": true,
    "editable": true
   },
   "source": [
    "As a sanity-check, the number of dimensions of the OHE train and testsets can be calculated ahead of time, if we know the number of levels and the number of variables."
   ]
  },
  {
   "cell_type": "code",
   "execution_count": 18,
   "metadata": {
    "collapsed": false,
    "deletable": true,
    "editable": true
   },
   "outputs": [
    {
     "data": {
      "text/html": [
       "<div>\n",
       "<style scoped>\n",
       "    .dataframe tbody tr th:only-of-type {\n",
       "        vertical-align: middle;\n",
       "    }\n",
       "\n",
       "    .dataframe tbody tr th {\n",
       "        vertical-align: top;\n",
       "    }\n",
       "\n",
       "    .dataframe thead th {\n",
       "        text-align: right;\n",
       "    }\n",
       "</style>\n",
       "<table border=\"1\" class=\"dataframe\">\n",
       "  <thead>\n",
       "    <tr style=\"text-align: right;\">\n",
       "      <th></th>\n",
       "      <th>category</th>\n",
       "      <th>main_category</th>\n",
       "      <th>currency</th>\n",
       "      <th>state</th>\n",
       "      <th>country</th>\n",
       "    </tr>\n",
       "  </thead>\n",
       "  <tbody>\n",
       "    <tr>\n",
       "      <th>count</th>\n",
       "      <td>281302</td>\n",
       "      <td>281302</td>\n",
       "      <td>281302</td>\n",
       "      <td>281302</td>\n",
       "      <td>281302</td>\n",
       "    </tr>\n",
       "    <tr>\n",
       "      <th>unique</th>\n",
       "      <td>158</td>\n",
       "      <td>15</td>\n",
       "      <td>13</td>\n",
       "      <td>2</td>\n",
       "      <td>22</td>\n",
       "    </tr>\n",
       "    <tr>\n",
       "      <th>top</th>\n",
       "      <td>Product Design</td>\n",
       "      <td>Film &amp; Video</td>\n",
       "      <td>USD</td>\n",
       "      <td>failed</td>\n",
       "      <td>US</td>\n",
       "    </tr>\n",
       "    <tr>\n",
       "      <th>freq</th>\n",
       "      <td>14516</td>\n",
       "      <td>51057</td>\n",
       "      <td>229517</td>\n",
       "      <td>168221</td>\n",
       "      <td>229366</td>\n",
       "    </tr>\n",
       "  </tbody>\n",
       "</table>\n",
       "</div>"
      ],
      "text/plain": [
       "             category  main_category  currency   state  country \n",
       "count           281302         281302    281302  281302   281302\n",
       "unique             158             15        13       2       22\n",
       "top     Product Design   Film & Video       USD  failed       US\n",
       "freq             14516          51057    229517  168221   229366"
      ]
     },
     "execution_count": 18,
     "metadata": {},
     "output_type": "execute_result"
    }
   ],
   "source": [
    "datasetSub.describe()"
   ]
  },
  {
   "cell_type": "markdown",
   "metadata": {
    "deletable": true,
    "editable": true
   },
   "source": [
    "From the description of `datasetSub`:\n",
    "- There are 158 levels in the `category` variable.\n",
    "- There are 15 levels in the `main_category` variable.\n",
    "- There are 13 levels in the `currency` variable.\n",
    "- There are 2 levels in the `state` variable.\n",
    "- There are 22 levels in the `country` variable.\n",
    "\n",
    "If we subset out the state variable, which we will require to be the binary label, we can calculate the dimensions of the OHE dataset thus:"
   ]
  },
  {
   "cell_type": "code",
   "execution_count": 22,
   "metadata": {
    "collapsed": false,
    "deletable": true,
    "editable": true
   },
   "outputs": [
    {
     "name": "stdout",
     "output_type": "stream",
     "text": [
      "281302, 208\n"
     ]
    }
   ],
   "source": [
    "print(\"281302,\" ,158 + 15 + 13 + 22)"
   ]
  },
  {
   "cell_type": "code",
   "execution_count": 23,
   "metadata": {
    "collapsed": false,
    "deletable": true,
    "editable": true
   },
   "outputs": [
    {
     "data": {
      "text/html": [
       "<div>\n",
       "<style scoped>\n",
       "    .dataframe tbody tr th:only-of-type {\n",
       "        vertical-align: middle;\n",
       "    }\n",
       "\n",
       "    .dataframe tbody tr th {\n",
       "        vertical-align: top;\n",
       "    }\n",
       "\n",
       "    .dataframe thead th {\n",
       "        text-align: right;\n",
       "    }\n",
       "</style>\n",
       "<table border=\"1\" class=\"dataframe\">\n",
       "  <thead>\n",
       "    <tr style=\"text-align: right;\">\n",
       "      <th></th>\n",
       "      <th>category</th>\n",
       "      <th>main_category</th>\n",
       "      <th>currency</th>\n",
       "      <th>country</th>\n",
       "    </tr>\n",
       "  </thead>\n",
       "  <tbody>\n",
       "    <tr>\n",
       "      <th>0</th>\n",
       "      <td>Poetry</td>\n",
       "      <td>Publishing</td>\n",
       "      <td>GBP</td>\n",
       "      <td>GB</td>\n",
       "    </tr>\n",
       "    <tr>\n",
       "      <th>1</th>\n",
       "      <td>Narrative Film</td>\n",
       "      <td>Film &amp; Video</td>\n",
       "      <td>USD</td>\n",
       "      <td>US</td>\n",
       "    </tr>\n",
       "    <tr>\n",
       "      <th>2</th>\n",
       "      <td>Music</td>\n",
       "      <td>Music</td>\n",
       "      <td>USD</td>\n",
       "      <td>US</td>\n",
       "    </tr>\n",
       "    <tr>\n",
       "      <th>4</th>\n",
       "      <td>Restaurants</td>\n",
       "      <td>Food</td>\n",
       "      <td>USD</td>\n",
       "      <td>US</td>\n",
       "    </tr>\n",
       "    <tr>\n",
       "      <th>5</th>\n",
       "      <td>Food</td>\n",
       "      <td>Food</td>\n",
       "      <td>USD</td>\n",
       "      <td>US</td>\n",
       "    </tr>\n",
       "  </tbody>\n",
       "</table>\n",
       "</div>"
      ],
      "text/plain": [
       "        category  main_category  currency  country \n",
       "0          Poetry     Publishing       GBP       GB\n",
       "1  Narrative Film   Film & Video       USD       US\n",
       "2           Music          Music       USD       US\n",
       "4     Restaurants           Food       USD       US\n",
       "5            Food           Food       USD       US"
      ]
     },
     "execution_count": 23,
     "metadata": {},
     "output_type": "execute_result"
    }
   ],
   "source": [
    "datasetOHEPrep = datasetSub.iloc[:,[0,1,2,4]]\n",
    "datasetOHEPrep.head()"
   ]
  },
  {
   "cell_type": "code",
   "execution_count": 24,
   "metadata": {
    "collapsed": false,
    "deletable": true,
    "editable": true
   },
   "outputs": [
    {
     "data": {
      "text/plain": [
       "(281302, 208)"
      ]
     },
     "execution_count": 24,
     "metadata": {},
     "output_type": "execute_result"
    }
   ],
   "source": [
    "datasetOHE = pd.get_dummies(datasetOHEPrep)\n",
    "datasetOHE.shape"
   ]
  },
  {
   "cell_type": "markdown",
   "metadata": {
    "deletable": true,
    "editable": true
   },
   "source": [
    "Now to encode the project_state variable as either 1 or 0 and to stitch it back onto the dataset."
   ]
  },
  {
   "cell_type": "code",
   "execution_count": 25,
   "metadata": {
    "collapsed": false,
    "deletable": true,
    "editable": true
   },
   "outputs": [
    {
     "data": {
      "text/plain": [
       "0    0\n",
       "1    0\n",
       "2    0\n",
       "4    1\n",
       "5    1\n",
       "Name: state , dtype: int64"
      ]
     },
     "execution_count": 25,
     "metadata": {},
     "output_type": "execute_result"
    }
   ],
   "source": [
    "datasetBinaryLabel = datasetSub.iloc[:,3].replace(to_replace={\"failed\": 0, \"successful\" : 1})\n",
    "datasetBinaryLabel.head()"
   ]
  },
  {
   "cell_type": "code",
   "execution_count": 26,
   "metadata": {
    "collapsed": false,
    "deletable": true,
    "editable": true,
    "scrolled": true
   },
   "outputs": [
    {
     "data": {
      "text/html": [
       "<div>\n",
       "<style scoped>\n",
       "    .dataframe tbody tr th:only-of-type {\n",
       "        vertical-align: middle;\n",
       "    }\n",
       "\n",
       "    .dataframe tbody tr th {\n",
       "        vertical-align: top;\n",
       "    }\n",
       "\n",
       "    .dataframe thead th {\n",
       "        text-align: right;\n",
       "    }\n",
       "</style>\n",
       "<table border=\"1\" class=\"dataframe\">\n",
       "  <thead>\n",
       "    <tr style=\"text-align: right;\">\n",
       "      <th></th>\n",
       "      <th>category _3D Printing</th>\n",
       "      <th>category _Academic</th>\n",
       "      <th>category _Accessories</th>\n",
       "      <th>category _Action</th>\n",
       "      <th>category _Animals</th>\n",
       "      <th>category _Animation</th>\n",
       "      <th>category _Anthologies</th>\n",
       "      <th>category _Apparel</th>\n",
       "      <th>category _Apps</th>\n",
       "      <th>category _Architecture</th>\n",
       "      <th>...</th>\n",
       "      <th>country _LU</th>\n",
       "      <th>country _MX</th>\n",
       "      <th>country _N,\"0</th>\n",
       "      <th>country _NL</th>\n",
       "      <th>country _NO</th>\n",
       "      <th>country _NZ</th>\n",
       "      <th>country _SE</th>\n",
       "      <th>country _SG</th>\n",
       "      <th>country _US</th>\n",
       "      <th>state</th>\n",
       "    </tr>\n",
       "  </thead>\n",
       "  <tbody>\n",
       "    <tr>\n",
       "      <th>0</th>\n",
       "      <td>0</td>\n",
       "      <td>0</td>\n",
       "      <td>0</td>\n",
       "      <td>0</td>\n",
       "      <td>0</td>\n",
       "      <td>0</td>\n",
       "      <td>0</td>\n",
       "      <td>0</td>\n",
       "      <td>0</td>\n",
       "      <td>0</td>\n",
       "      <td>...</td>\n",
       "      <td>0</td>\n",
       "      <td>0</td>\n",
       "      <td>0</td>\n",
       "      <td>0</td>\n",
       "      <td>0</td>\n",
       "      <td>0</td>\n",
       "      <td>0</td>\n",
       "      <td>0</td>\n",
       "      <td>0</td>\n",
       "      <td>0</td>\n",
       "    </tr>\n",
       "    <tr>\n",
       "      <th>1</th>\n",
       "      <td>0</td>\n",
       "      <td>0</td>\n",
       "      <td>0</td>\n",
       "      <td>0</td>\n",
       "      <td>0</td>\n",
       "      <td>0</td>\n",
       "      <td>0</td>\n",
       "      <td>0</td>\n",
       "      <td>0</td>\n",
       "      <td>0</td>\n",
       "      <td>...</td>\n",
       "      <td>0</td>\n",
       "      <td>0</td>\n",
       "      <td>0</td>\n",
       "      <td>0</td>\n",
       "      <td>0</td>\n",
       "      <td>0</td>\n",
       "      <td>0</td>\n",
       "      <td>0</td>\n",
       "      <td>1</td>\n",
       "      <td>0</td>\n",
       "    </tr>\n",
       "    <tr>\n",
       "      <th>2</th>\n",
       "      <td>0</td>\n",
       "      <td>0</td>\n",
       "      <td>0</td>\n",
       "      <td>0</td>\n",
       "      <td>0</td>\n",
       "      <td>0</td>\n",
       "      <td>0</td>\n",
       "      <td>0</td>\n",
       "      <td>0</td>\n",
       "      <td>0</td>\n",
       "      <td>...</td>\n",
       "      <td>0</td>\n",
       "      <td>0</td>\n",
       "      <td>0</td>\n",
       "      <td>0</td>\n",
       "      <td>0</td>\n",
       "      <td>0</td>\n",
       "      <td>0</td>\n",
       "      <td>0</td>\n",
       "      <td>1</td>\n",
       "      <td>0</td>\n",
       "    </tr>\n",
       "    <tr>\n",
       "      <th>4</th>\n",
       "      <td>0</td>\n",
       "      <td>0</td>\n",
       "      <td>0</td>\n",
       "      <td>0</td>\n",
       "      <td>0</td>\n",
       "      <td>0</td>\n",
       "      <td>0</td>\n",
       "      <td>0</td>\n",
       "      <td>0</td>\n",
       "      <td>0</td>\n",
       "      <td>...</td>\n",
       "      <td>0</td>\n",
       "      <td>0</td>\n",
       "      <td>0</td>\n",
       "      <td>0</td>\n",
       "      <td>0</td>\n",
       "      <td>0</td>\n",
       "      <td>0</td>\n",
       "      <td>0</td>\n",
       "      <td>1</td>\n",
       "      <td>1</td>\n",
       "    </tr>\n",
       "    <tr>\n",
       "      <th>5</th>\n",
       "      <td>0</td>\n",
       "      <td>0</td>\n",
       "      <td>0</td>\n",
       "      <td>0</td>\n",
       "      <td>0</td>\n",
       "      <td>0</td>\n",
       "      <td>0</td>\n",
       "      <td>0</td>\n",
       "      <td>0</td>\n",
       "      <td>0</td>\n",
       "      <td>...</td>\n",
       "      <td>0</td>\n",
       "      <td>0</td>\n",
       "      <td>0</td>\n",
       "      <td>0</td>\n",
       "      <td>0</td>\n",
       "      <td>0</td>\n",
       "      <td>0</td>\n",
       "      <td>0</td>\n",
       "      <td>1</td>\n",
       "      <td>1</td>\n",
       "    </tr>\n",
       "  </tbody>\n",
       "</table>\n",
       "<p>5 rows × 209 columns</p>\n",
       "</div>"
      ],
      "text/plain": [
       "   category _3D Printing  category _Academic  category _Accessories  \\\n",
       "0                      0                   0                      0   \n",
       "1                      0                   0                      0   \n",
       "2                      0                   0                      0   \n",
       "4                      0                   0                      0   \n",
       "5                      0                   0                      0   \n",
       "\n",
       "   category _Action  category _Animals  category _Animation  \\\n",
       "0                 0                  0                    0   \n",
       "1                 0                  0                    0   \n",
       "2                 0                  0                    0   \n",
       "4                 0                  0                    0   \n",
       "5                 0                  0                    0   \n",
       "\n",
       "   category _Anthologies  category _Apparel  category _Apps  \\\n",
       "0                      0                  0               0   \n",
       "1                      0                  0               0   \n",
       "2                      0                  0               0   \n",
       "4                      0                  0               0   \n",
       "5                      0                  0               0   \n",
       "\n",
       "   category _Architecture   ...    country _LU  country _MX  country _N,\"0  \\\n",
       "0                       0   ...              0            0              0   \n",
       "1                       0   ...              0            0              0   \n",
       "2                       0   ...              0            0              0   \n",
       "4                       0   ...              0            0              0   \n",
       "5                       0   ...              0            0              0   \n",
       "\n",
       "   country _NL  country _NO  country _NZ  country _SE  country _SG  \\\n",
       "0            0            0            0            0            0   \n",
       "1            0            0            0            0            0   \n",
       "2            0            0            0            0            0   \n",
       "4            0            0            0            0            0   \n",
       "5            0            0            0            0            0   \n",
       "\n",
       "   country _US  state   \n",
       "0            0       0  \n",
       "1            1       0  \n",
       "2            1       0  \n",
       "4            1       1  \n",
       "5            1       1  \n",
       "\n",
       "[5 rows x 209 columns]"
      ]
     },
     "execution_count": 26,
     "metadata": {},
     "output_type": "execute_result"
    }
   ],
   "source": [
    "datasetPrep = pd.concat([datasetOHE, datasetBinaryLabel], axis=1)\n",
    "datasetPrep.head()"
   ]
  },
  {
   "cell_type": "code",
   "execution_count": 45,
   "metadata": {
    "collapsed": true,
    "deletable": true,
    "editable": true
   },
   "outputs": [],
   "source": [
    "datasetPrep_Reindex = datasetPrep.reset_index(drop=True)"
   ]
  },
  {
   "cell_type": "markdown",
   "metadata": {
    "deletable": true,
    "editable": true
   },
   "source": [
    "Limit the dataset to 200,000 rows for easier maths.\n",
    "take 60% of rows for the training set, and 20% each for the test and validate sets."
   ]
  },
  {
   "cell_type": "code",
   "execution_count": 47,
   "metadata": {
    "collapsed": true,
    "deletable": true,
    "editable": true
   },
   "outputs": [],
   "source": [
    "datasetTrain = datasetPrep_Reindex.iloc[0:120000,:]\n",
    "datasetTest  = datasetPrep_Reindex.iloc[120000:160000,:]\n",
    "datasetValid = datasetPrep_Reindex.iloc[160000:200000,]"
   ]
  },
  {
   "cell_type": "code",
   "execution_count": 48,
   "metadata": {
    "collapsed": false,
    "deletable": true,
    "editable": true
   },
   "outputs": [
    {
     "name": "stdout",
     "output_type": "stream",
     "text": [
      "(120000, 209)\n",
      "(40000, 209)\n",
      "(40000, 209)\n"
     ]
    }
   ],
   "source": [
    "print(datasetTrain.shape)\n",
    "print(datasetTest.shape)\n",
    "print(datasetValid.shape)"
   ]
  },
  {
   "cell_type": "code",
   "execution_count": 49,
   "metadata": {
    "collapsed": true,
    "deletable": true,
    "editable": true
   },
   "outputs": [],
   "source": [
    "datasetTrain_DMATRIX = xgb.DMatrix(data = datasetTrain.iloc[1:,0:208], label = datasetTrain.iloc[1:,[208]])"
   ]
  },
  {
   "cell_type": "code",
   "execution_count": 50,
   "metadata": {
    "collapsed": true,
    "deletable": true,
    "editable": true
   },
   "outputs": [],
   "source": [
    "param = {'max_depth':2, 'eta':1, 'silent':1, 'objective':'binary:logistic' }\n",
    "num_round = 2\n",
    "bst = xgb.train(param, datasetTrain_DMATRIX, num_round)"
   ]
  },
  {
   "cell_type": "code",
   "execution_count": 51,
   "metadata": {
    "collapsed": true,
    "deletable": true,
    "editable": true
   },
   "outputs": [],
   "source": [
    "datasetTest_DMATRIX = xgb.DMatrix(data = datasetTest.iloc[1:,0:208], label = datasetTest.iloc[1:,[208]])"
   ]
  },
  {
   "cell_type": "code",
   "execution_count": 52,
   "metadata": {
    "collapsed": true,
    "deletable": true,
    "editable": true
   },
   "outputs": [],
   "source": [
    "predict = bst.predict(datasetTest_DMATRIX)"
   ]
  },
  {
   "cell_type": "code",
   "execution_count": 53,
   "metadata": {
    "collapsed": false,
    "deletable": true,
    "editable": true
   },
   "outputs": [
    {
     "name": "stdout",
     "output_type": "stream",
     "text": [
      "39999\n"
     ]
    }
   ],
   "source": [
    "predictions = [round(value) for value in predict]\n",
    "print(len(predictions))"
   ]
  },
  {
   "cell_type": "code",
   "execution_count": 54,
   "metadata": {
    "collapsed": true,
    "deletable": true,
    "editable": true
   },
   "outputs": [],
   "source": [
    "accuracy = accuracy_score(datasetTest.iloc[1:,[208]], predictions)"
   ]
  },
  {
   "cell_type": "code",
   "execution_count": 55,
   "metadata": {
    "collapsed": false,
    "deletable": true,
    "editable": true
   },
   "outputs": [
    {
     "name": "stdout",
     "output_type": "stream",
     "text": [
      "0.6407160179004475\n"
     ]
    }
   ],
   "source": [
    "print(accuracy)"
   ]
  },
  {
   "cell_type": "markdown",
   "metadata": {
    "deletable": true,
    "editable": true
   },
   "source": [
    "<h3>From XGBoost to a Convolutional Neural Network</h3>"
   ]
  },
  {
   "cell_type": "code",
   "execution_count": 58,
   "metadata": {
    "collapsed": false,
    "deletable": true,
    "editable": true
   },
   "outputs": [
    {
     "name": "stdout",
     "output_type": "stream",
     "text": [
      "209\n",
      "208\n"
     ]
    }
   ],
   "source": [
    "PATH = '/home/paperspace/fastai/courses/dl1/XGBoost/'\n",
    "columnNames = list(datasetTest[0:208])\n",
    "print(len(columnNames))\n",
    "## del columnNames[-1]\n",
    "## print(len(columnNames))"
   ]
  },
  {
   "cell_type": "code",
   "execution_count": 59,
   "metadata": {
    "collapsed": false,
    "deletable": true,
    "editable": true
   },
   "outputs": [
    {
     "data": {
      "text/plain": [
       "['category _3D Printing',\n",
       " 'category _Academic',\n",
       " 'category _Accessories',\n",
       " 'category _Action',\n",
       " 'category _Animals',\n",
       " 'category _Animation',\n",
       " 'category _Anthologies',\n",
       " 'category _Apparel',\n",
       " 'category _Apps',\n",
       " 'category _Architecture',\n",
       " 'category _Art',\n",
       " 'category _Art Books',\n",
       " 'category _Audio',\n",
       " 'category _Bacon',\n",
       " 'category _Blues',\n",
       " 'category _Calendars',\n",
       " 'category _Camera Equipment',\n",
       " 'category _Candles',\n",
       " 'category _Ceramics',\n",
       " \"category _Children's Books\",\n",
       " 'category _Childrenswear',\n",
       " 'category _Chiptune',\n",
       " 'category _Civic Design',\n",
       " 'category _Classical Music',\n",
       " 'category _Comedy',\n",
       " 'category _Comic Books',\n",
       " 'category _Comics',\n",
       " 'category _Community Gardens',\n",
       " 'category _Conceptual Art',\n",
       " 'category _Cookbooks',\n",
       " 'category _Country & Folk',\n",
       " 'category _Couture',\n",
       " 'category _Crafts',\n",
       " 'category _Crochet',\n",
       " 'category _DIY',\n",
       " 'category _DIY Electronics',\n",
       " 'category _Dance',\n",
       " 'category _Design',\n",
       " 'category _Digital Art',\n",
       " 'category _Documentary',\n",
       " 'category _Drama',\n",
       " 'category _Drinks',\n",
       " 'category _Electronic Music',\n",
       " 'category _Embroidery',\n",
       " 'category _Events',\n",
       " 'category _Experimental',\n",
       " 'category _Fabrication Tools',\n",
       " 'category _Faith',\n",
       " 'category _Family',\n",
       " 'category _Fantasy',\n",
       " \"category _Farmer's Markets\",\n",
       " 'category _Farms',\n",
       " 'category _Fashion',\n",
       " 'category _Festivals',\n",
       " 'category _Fiction',\n",
       " 'category _Film & Video',\n",
       " 'category _Fine Art',\n",
       " 'category _Flight',\n",
       " 'category _Food',\n",
       " 'category _Food Trucks',\n",
       " 'category _Footwear',\n",
       " 'category _Gadgets',\n",
       " 'category _Games',\n",
       " 'category _Gaming Hardware',\n",
       " 'category _Glass',\n",
       " 'category _Graphic Design',\n",
       " 'category _Graphic Novels',\n",
       " 'category _Hardware',\n",
       " 'category _Hip-Hop',\n",
       " 'category _Horror',\n",
       " 'category _Illustration',\n",
       " 'category _Immersive',\n",
       " 'category _Indie Rock',\n",
       " 'category _Installations',\n",
       " 'category _Interactive Design',\n",
       " 'category _Jazz',\n",
       " 'category _Jewelry',\n",
       " 'category _Journalism',\n",
       " 'category _Kids',\n",
       " 'category _Knitting',\n",
       " 'category _Latin',\n",
       " 'category _Letterpress',\n",
       " 'category _Literary Journals',\n",
       " 'category _Live Games',\n",
       " 'category _Makerspaces',\n",
       " 'category _Metal',\n",
       " 'category _Mixed Media',\n",
       " 'category _Mobile Games',\n",
       " 'category _Movie Theaters',\n",
       " 'category _Music',\n",
       " 'category _Music Videos',\n",
       " 'category _Musical',\n",
       " 'category _Narrative Film',\n",
       " 'category _Nature',\n",
       " 'category _Nonfiction',\n",
       " 'category _Painting',\n",
       " 'category _People',\n",
       " 'category _Performance Art',\n",
       " 'category _Performances',\n",
       " 'category _Periodicals',\n",
       " 'category _Pet Fashion',\n",
       " 'category _Photo',\n",
       " 'category _Photobooks',\n",
       " 'category _Photography',\n",
       " 'category _Places',\n",
       " 'category _Playing Cards',\n",
       " 'category _Plays',\n",
       " 'category _Poetry',\n",
       " 'category _Pop',\n",
       " 'category _Pottery',\n",
       " 'category _Print',\n",
       " 'category _Printing',\n",
       " 'category _Product Design',\n",
       " 'category _Public Art',\n",
       " 'category _Publishing',\n",
       " 'category _Punk',\n",
       " 'category _Puzzles',\n",
       " 'category _Quilts',\n",
       " 'category _R&B',\n",
       " 'category _Radio & Podcasts',\n",
       " 'category _Ready-to-wear',\n",
       " 'category _Residencies',\n",
       " 'category _Restaurants',\n",
       " 'category _Robots',\n",
       " 'category _Rock',\n",
       " 'category _Romance',\n",
       " 'category _Science Fiction',\n",
       " 'category _Sculpture',\n",
       " 'category _Shorts',\n",
       " 'category _Small Batch',\n",
       " 'category _Software',\n",
       " 'category _Sound',\n",
       " 'category _Space Exploration',\n",
       " 'category _Spaces',\n",
       " 'category _Stationery',\n",
       " 'category _Tabletop Games',\n",
       " 'category _Taxidermy',\n",
       " 'category _Technology',\n",
       " 'category _Television',\n",
       " 'category _Textiles',\n",
       " 'category _Theater',\n",
       " 'category _Thrillers',\n",
       " 'category _Translations',\n",
       " 'category _Typography',\n",
       " 'category _Vegan',\n",
       " 'category _Video',\n",
       " 'category _Video Art',\n",
       " 'category _Video Games',\n",
       " 'category _Wearables',\n",
       " 'category _Weaving',\n",
       " 'category _Web',\n",
       " 'category _Webcomics',\n",
       " 'category _Webseries',\n",
       " 'category _Woodworking',\n",
       " 'category _Workshops',\n",
       " 'category _World Music',\n",
       " 'category _Young Adult',\n",
       " 'category _Zines',\n",
       " 'main_category _Art',\n",
       " 'main_category _Comics',\n",
       " 'main_category _Crafts',\n",
       " 'main_category _Dance',\n",
       " 'main_category _Design',\n",
       " 'main_category _Fashion',\n",
       " 'main_category _Film & Video',\n",
       " 'main_category _Food',\n",
       " 'main_category _Games',\n",
       " 'main_category _Journalism',\n",
       " 'main_category _Music',\n",
       " 'main_category _Photography',\n",
       " 'main_category _Publishing',\n",
       " 'main_category _Technology',\n",
       " 'main_category _Theater',\n",
       " 'currency _AUD',\n",
       " 'currency _CAD',\n",
       " 'currency _CHF',\n",
       " 'currency _DKK',\n",
       " 'currency _EUR',\n",
       " 'currency _GBP',\n",
       " 'currency _HKD',\n",
       " 'currency _MXN',\n",
       " 'currency _NOK',\n",
       " 'currency _NZD',\n",
       " 'currency _SEK',\n",
       " 'currency _SGD',\n",
       " 'currency _USD',\n",
       " 'country _AT',\n",
       " 'country _AU',\n",
       " 'country _BE',\n",
       " 'country _CA',\n",
       " 'country _CH',\n",
       " 'country _DE',\n",
       " 'country _DK',\n",
       " 'country _ES',\n",
       " 'country _FR',\n",
       " 'country _GB',\n",
       " 'country _HK',\n",
       " 'country _IE',\n",
       " 'country _IT',\n",
       " 'country _LU',\n",
       " 'country _MX',\n",
       " 'country _N,\"0',\n",
       " 'country _NL',\n",
       " 'country _NO',\n",
       " 'country _NZ',\n",
       " 'country _SE',\n",
       " 'country _SG',\n",
       " 'country _US']"
      ]
     },
     "execution_count": 59,
     "metadata": {},
     "output_type": "execute_result"
    }
   ],
   "source": [
    "columnNames"
   ]
  },
  {
   "cell_type": "code",
   "execution_count": null,
   "metadata": {
    "collapsed": true,
    "deletable": true,
    "editable": true
   },
   "outputs": [],
   "source": [
    "train_ratio = 0.75\n",
    "train_size = int(samp_size * train_ratio)\n",
    "val_idx = list(range(train_size, len(df)))"
   ]
  },
  {
   "cell_type": "code",
   "execution_count": 73,
   "metadata": {
    "collapsed": true,
    "deletable": true,
    "editable": true
   },
   "outputs": [],
   "source": [
    "md = ColumnarModelData.from_data_frames(PATH, \n",
    "                                        datasetTrain.iloc[1:,0:208], \n",
    "                                        datasetValid.iloc[1:,0:208],\n",
    "                                        datasetTrain.iloc[1:,[208]].astype('int'), \n",
    "                                        datasetValid.iloc[1:,[208]].astype('int'), \n",
    "                                        columnNames,\n",
    "                                        128,\n",
    "                                        test_df=datasetTest.iloc[1:,0:208],\n",
    "                                        is_reg=False,\n",
    "                                        is_multi=False\n",
    "                                       )"
   ]
  },
  {
   "cell_type": "code",
   "execution_count": null,
   "metadata": {
    "collapsed": true,
    "deletable": true,
    "editable": true
   },
   "outputs": [],
   "source": [
    "## m = md.get_learner(emb_szs=, y_range=[0,1])"
   ]
  }
 ],
 "metadata": {
  "kernelspec": {
   "display_name": "Python 3",
   "language": "python",
   "name": "python3"
  },
  "language_info": {
   "codemirror_mode": {
    "name": "ipython",
    "version": 3
   },
   "file_extension": ".py",
   "mimetype": "text/x-python",
   "name": "python",
   "nbconvert_exporter": "python",
   "pygments_lexer": "ipython3",
   "version": "3.6.1"
  }
 },
 "nbformat": 4,
 "nbformat_minor": 2
}
